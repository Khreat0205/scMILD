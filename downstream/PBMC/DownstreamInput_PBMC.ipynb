{
 "cells": [
  {
   "cell_type": "code",
   "execution_count": null,
   "metadata": {},
   "outputs": [],
   "source": [
    "import sys\n",
    "import os \n",
    "import torch\n",
    "\n",
    "from torch import nn\n",
    "from torch.utils.data import DataLoader\n",
    "import numpy as np\n",
    "sys.path.append(\"/home/local/kyeonghunjeong_920205/nipa_bu/COVID19/3.analysis/9.MIL/scAMIL_cell/scMILD\")\n",
    "from src.utils import *\n",
    "from src.dataset import *\n",
    "from src.model import *\n",
    "import pandas as pd\n",
    "from sklearn.model_selection import train_test_split\n",
    "import scanpy as sc\n",
    "from scipy import sparse\n",
    "import modin.pandas as pd\n",
    "import ray\n",
    "ray.init()"
   ]
  },
  {
   "cell_type": "code",
   "execution_count": null,
   "metadata": {},
   "outputs": [],
   "source": [
    "dir_path=\"PBMC2\"\n",
    "base_path = f\"../../data/{dir_path}/\"\n",
    "target_dir = f'{base_path}/AE/'"
   ]
  },
  {
   "cell_type": "code",
   "execution_count": null,
   "metadata": {},
   "outputs": [],
   "source": [
    "device_num = 4\n",
    "device = torch.device(f'cuda:{device_num}' if torch.cuda.is_available() else 'cpu')\n",
    "print(\"INFO: Using device: {}\".format(device))"
   ]
  },
  {
   "cell_type": "code",
   "execution_count": null,
   "metadata": {},
   "outputs": [],
   "source": [
    "\n",
    "def save_cell_scores(saved_model_path, exp, test_dataset, label_encoder, device, suffix=None):\n",
    "    instance_test_dataset = update_instance_labels_with_bag_labels(test_dataset, device)\n",
    "\n",
    "    model_teacher = torch.load(f'{saved_model_path}/model_teacher_exp{exp}.pt', map_location=device)\n",
    "    model_encoder = torch.load(f'{saved_model_path}/model_encoder_exp{exp}.pt', map_location=device)\n",
    "    model_student = torch.load(f'{saved_model_path}/model_student_exp{exp}.pt', map_location=device)\n",
    "\n",
    "    model_encoder.eval()\n",
    "    model_student.eval()\n",
    "    model_teacher.eval()\n",
    "    with torch.no_grad():\n",
    "        features = model_encoder(instance_test_dataset.data.clone().detach().float().to(device))[:, :model_teacher.input_dims].detach().requires_grad_(False)\n",
    "        cell_score_teacher = model_teacher.attention_module(features).squeeze(0)\n",
    "    \n",
    "    features_np = features.cpu().detach().numpy()\n",
    "    cell_score_teacher_np = cell_score_teacher.cpu().detach().numpy()\n",
    "\n",
    "    df = pd.DataFrame(features_np, columns=[f'feature_{i}' for i in range(features_np.shape[1])])\n",
    "    df['cell_type'] = label_encoder.inverse_transform(instance_test_dataset.instance_labels.cpu().detach().numpy())\n",
    "    df['cell_score'] = cell_score_teacher_np\n",
    "    df['bag_labels'] = instance_test_dataset.bag_labels.cpu().detach().numpy()\n",
    "    df['instance_labels'] = instance_test_dataset.instance_labels.cpu().detach().numpy()\n",
    "    df['cell_score_minmax'] = (df['cell_score'].values - min(df['cell_score'].values)) / (max(df['cell_score'].values) - min(df['cell_score'].values))\n",
    "    if suffix is not None: \n",
    "        df.to_csv(f'cell_score_{exp}_{suffix}.csv', index=False)    \n",
    "    else: \n",
    "        df.to_csv(f'cell_score_{exp}.csv', index=False)\n",
    "        \n",
    "    return 0\n",
    "\n",
    "def save_test_data(exp, sample_labels, adata):\n",
    "    split_ratio = [0.5, 0.25, 0.25]\n",
    "    train_val_set, test_set = train_test_split(sample_labels, test_size=split_ratio[2], random_state=exp, stratify=sample_labels['disease_numeric'])\n",
    "    train_set, val_set = train_test_split(train_val_set, test_size=split_ratio[1] / (1 - split_ratio[2]), random_state=exp, stratify=train_val_set['disease_numeric'])\n",
    "    test_set.to_csv(f\"test_set_barcodes_{exp}.csv\")\n",
    "    test_data = adata[adata.obs['sample_id_numeric'].isin(test_set['sample_id_numeric'])]    \n",
    "    test_data.obs.to_csv(f\"obs_{exp}.csv\")\n",
    "    \n",
    "    \n",
    "    # test_data.obs.index = test_data.obs['cell.names'] \n",
    "    # test_data.var.index = test_data.var['gene.names'] \n",
    "    \n",
    "    # test_data.obs.columns = [sub.replace('(', '') for sub in test_data.obs.columns]\n",
    "    # test_data.obs.columns = [sub.replace(')', '') for sub in test_data.obs.columns]\n",
    "    # test_data.obs.columns = [sub.replace('/', '') for sub in test_data.obs.columns]\n",
    "    # test_data.obs.columns = [sub.replace('=', '.') for sub in test_data.obs.columns]\n",
    "    # test_data.obs.columns = [sub.replace(' ', '_') for sub in test_data.obs.columns]\n",
    "    # test_data.obs.columns = [sub.replace('-', '_') for sub in test_data.obs.columns]\n",
    "    \n",
    "    # test_data.obs.index = test_data.obs['cell.names']\n",
    "    # test_data.var.index = test_data.var['gene.names']\n",
    "    # test_data.write(filename=f\"anndata_{exp}.h5ad\")\n"
   ]
  },
  {
   "cell_type": "code",
   "execution_count": null,
   "metadata": {},
   "outputs": [],
   "source": [
    "dat = sc.read_h5ad(f'../../data/PBMC/su_2020_processed.h5ad')\n",
    "print(dat.shape)\n",
    "\n",
    "adata_raw = dat.copy()\n",
    "sc.pp.normalize_total(dat, target_sum=1e4)\n",
    "print(\"Preprocessing Complete!\")\n",
    "print(dat.shape)\n",
    "sc.pp.log1p(dat)\n",
    "sc.pp.highly_variable_genes(dat, n_top_genes=3000)\n",
    "adata = adata_raw[:, dat.var.highly_variable]\n",
    "print(adata.shape)\n"
   ]
  },
  {
   "cell_type": "code",
   "execution_count": null,
   "metadata": {},
   "outputs": [],
   "source": [
    "\n",
    "# adata.write('whole_obj.h5ad')\n",
    "print(adata.shape)\n",
    "adata = adata[adata.obs['disease_severity_standard'].isin(['mild','moderate', 'severe'])]\n",
    "print(adata.shape)\n",
    "\n",
    "mapping = {'mild': 0, 'moderate': 1, 'severe': 1}\n",
    "adata.obs['disease_numeric'] = adata.obs['disease_severity_standard'].map(mapping)\n",
    "adata.obs['sample_id_numeric'], _ = pd.factorize(adata.obs['sample'])\n",
    "sample_labels = adata.obs[['disease_numeric', 'sample_id_numeric']].drop_duplicates()\n",
    "\n"
   ]
  },
  {
   "cell_type": "code",
   "execution_count": null,
   "metadata": {},
   "outputs": [],
   "source": [
    "for exp in range(1, 9):\n",
    "    print(f'Experiment {exp}')\n",
    "    save_test_data(exp, sample_labels, adata)"
   ]
  },
  {
   "cell_type": "code",
   "execution_count": null,
   "metadata": {},
   "outputs": [],
   "source": [
    "# saved_model_path = '../../results/model_PBMC_ae_ed128_md64_lr0.0001_500_0.1_5_15'\n",
    "# saved_model_paths = [\n",
    "#         '../../results/model_PBMC_ae_ed128_md64_lr0.0001_500_0.1_5_15',\n",
    "#         '../../results/model_PBMC_ae_ed128_md64_lr0.0001_500_0.1_500_15_baseline2',        \n",
    "#     ]\n",
    "\n",
    "saved_model_paths = [\n",
    "    '/home/local/kyeonghunjeong_920205/nipa_bu/COVID19/3.analysis/9.MIL/scAMIL_cell/scMILD/results/0618_PBMC2_GMM_comps/BASIC_OPT5_opl_comps_23456_lambda0.001_op_gamma_10.0_bag_batch28_maxepoch20_patience20_model_ae_ed64_md64_lr0.0001_20_0.3_5_20_', #scMILD\n",
    "    '/home/local/kyeonghunjeong_920205/nipa_bu/COVID19/3.analysis/9.MIL/scAMIL_cell/scMILD/results/0618_PBMC2_GMM_comps/WENO_BASIC_opl_comps_23456_lambda0.01_op_gamma_1.0_bag_batch28_maxepoch20_patience20_model_ae_ed64_md64_lr0.0001_20_0.3_7_20_', # WENO\n",
    "    '/home/local/kyeonghunjeong_920205/nipa_bu/COVID19/3.analysis/9.MIL/scAMIL_cell/scMILD/results/0618_PBMC2_GMM_comps/ABMIL_Loss_opt5_bag_batch28_maxepoch20_patience20_model_ae_ed64_md64_lr0.0001_20_0.3_5_20_' # ABMIL\n",
    "                     ]\n",
    "for saved_model_path in saved_model_paths:\n",
    "    for exp in range(1, 9):\n",
    "        print(f'Experiment {exp}')\n",
    "        _, _, test_dataset, label_encoder = load_dataset_and_preprocessors(base_path, exp, device)\n",
    "        # suffix if WENO > not_op / ABMIL > baseline / BASIC, scMILD > None\n",
    "        suffix = 'baseline' if 'ABMIL' in saved_model_path else 'not_op' if 'WENO' in saved_model_path else None\n",
    "        \n",
    "        save_cell_scores(saved_model_path, exp, test_dataset, label_encoder, device, suffix)\n",
    "        torch.cuda.empty_cache()"
   ]
  }
 ],
 "metadata": {
  "kernelspec": {
   "display_name": "Python 3",
   "language": "python",
   "name": "python3"
  },
  "language_info": {
   "codemirror_mode": {
    "name": "ipython",
    "version": 3
   },
   "file_extension": ".py",
   "mimetype": "text/x-python",
   "name": "python",
   "nbconvert_exporter": "python",
   "pygments_lexer": "ipython3",
   "version": "3.8.18"
  }
 },
 "nbformat": 4,
 "nbformat_minor": 2
}
